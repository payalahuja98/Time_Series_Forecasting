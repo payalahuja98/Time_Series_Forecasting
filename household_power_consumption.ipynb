{
  "nbformat": 4,
  "nbformat_minor": 0,
  "metadata": {
    "colab": {
      "name": "household_power_consumption.ipynb",
      "provenance": [],
      "collapsed_sections": [],
      "authorship_tag": "ABX9TyNm0XJQ12jmboFbKwpaJQwz"
    },
    "kernelspec": {
      "name": "python3",
      "display_name": "Python 3"
    }
  },
  "cells": [
    {
      "cell_type": "code",
      "metadata": {
        "id": "s2CWE7qZuKp7"
      },
      "source": [
        "from math import sqrt\r\n",
        "from numpy import split\r\n",
        "from numpy import array\r\n",
        "from pandas import read_csv\r\n",
        "from sklearn.metrics import mean_squared_error\r\n",
        "from matplotlib import pyplot\r\n"
      ],
      "execution_count": 1,
      "outputs": []
    },
    {
      "cell_type": "code",
      "metadata": {
        "colab": {
          "base_uri": "https://localhost:8080/"
        },
        "id": "VYH2oIXzt4Un",
        "outputId": "2039f350-e911-419c-d4d4-46a10c5b06c7"
      },
      "source": [
        "#load all data\r\n",
        "dataset = read_csv(\"household_power_consumption.txt\", sep=\";\", header=0, low_memory=False,\r\n",
        "infer_datetime_format=True, parse_dates={\"datetime\":[0,1]}, index_col=[\"datetime\"])\r\n",
        "#summarize\r\n",
        "print(dataset.shape)\r\n",
        "print(dataset.head())"
      ],
      "execution_count": 2,
      "outputs": [
        {
          "output_type": "stream",
          "text": [
            "(2075259, 7)\n",
            "                    Global_active_power  ... Sub_metering_3\n",
            "datetime                                 ...               \n",
            "2006-12-16 17:24:00               4.216  ...           17.0\n",
            "2006-12-16 17:25:00               5.360  ...           16.0\n",
            "2006-12-16 17:26:00               5.374  ...           17.0\n",
            "2006-12-16 17:27:00               5.388  ...           17.0\n",
            "2006-12-16 17:28:00               3.666  ...           17.0\n",
            "\n",
            "[5 rows x 7 columns]\n"
          ],
          "name": "stdout"
        }
      ]
    },
    {
      "cell_type": "code",
      "metadata": {
        "id": "7I0dzJ6Muhag"
      },
      "source": [
        "#mark all missing values\r\n",
        "dataset.replace(\"?\", float(\"NaN\"), inplace=True)"
      ],
      "execution_count": 3,
      "outputs": []
    },
    {
      "cell_type": "code",
      "metadata": {
        "colab": {
          "base_uri": "https://localhost:8080/",
          "height": 767
        },
        "id": "rYyRMPGKz71E",
        "outputId": "454c0894-8951-4311-eda0-914ae1cdb147"
      },
      "source": [
        "values = dataset.values.astype(\"float32\")\r\n",
        "global_act_pwr = values[:,0]\r\n",
        "sub_metering_1 = values[:,-3]\r\n",
        "sub_metering_2 = values[:,-2]\r\n",
        "sub_metering_3 = values[:,-1]\r\n",
        "\r\n",
        "#add column for sub-metering 4\r\n",
        "dataset[\"Sub_metering_4\"] = (global_act_pwr * 1000/60) - (sub_metering_1 + sub_metering_2 + sub_metering_3)\r\n",
        "dataset"
      ],
      "execution_count": 4,
      "outputs": [
        {
          "output_type": "execute_result",
          "data": {
            "text/html": [
              "<div>\n",
              "<style scoped>\n",
              "    .dataframe tbody tr th:only-of-type {\n",
              "        vertical-align: middle;\n",
              "    }\n",
              "\n",
              "    .dataframe tbody tr th {\n",
              "        vertical-align: top;\n",
              "    }\n",
              "\n",
              "    .dataframe thead th {\n",
              "        text-align: right;\n",
              "    }\n",
              "</style>\n",
              "<table border=\"1\" class=\"dataframe\">\n",
              "  <thead>\n",
              "    <tr style=\"text-align: right;\">\n",
              "      <th></th>\n",
              "      <th>Global_active_power</th>\n",
              "      <th>Global_reactive_power</th>\n",
              "      <th>Voltage</th>\n",
              "      <th>Global_intensity</th>\n",
              "      <th>Sub_metering_1</th>\n",
              "      <th>Sub_metering_2</th>\n",
              "      <th>Sub_metering_3</th>\n",
              "      <th>Sub_metering_4</th>\n",
              "    </tr>\n",
              "    <tr>\n",
              "      <th>datetime</th>\n",
              "      <th></th>\n",
              "      <th></th>\n",
              "      <th></th>\n",
              "      <th></th>\n",
              "      <th></th>\n",
              "      <th></th>\n",
              "      <th></th>\n",
              "      <th></th>\n",
              "    </tr>\n",
              "  </thead>\n",
              "  <tbody>\n",
              "    <tr>\n",
              "      <th>2006-12-16 17:24:00</th>\n",
              "      <td>4.216</td>\n",
              "      <td>0.418</td>\n",
              "      <td>234.840</td>\n",
              "      <td>18.400</td>\n",
              "      <td>0.000</td>\n",
              "      <td>1.000</td>\n",
              "      <td>17.0</td>\n",
              "      <td>52.266670</td>\n",
              "    </tr>\n",
              "    <tr>\n",
              "      <th>2006-12-16 17:25:00</th>\n",
              "      <td>5.360</td>\n",
              "      <td>0.436</td>\n",
              "      <td>233.630</td>\n",
              "      <td>23.000</td>\n",
              "      <td>0.000</td>\n",
              "      <td>1.000</td>\n",
              "      <td>16.0</td>\n",
              "      <td>72.333336</td>\n",
              "    </tr>\n",
              "    <tr>\n",
              "      <th>2006-12-16 17:26:00</th>\n",
              "      <td>5.374</td>\n",
              "      <td>0.498</td>\n",
              "      <td>233.290</td>\n",
              "      <td>23.000</td>\n",
              "      <td>0.000</td>\n",
              "      <td>2.000</td>\n",
              "      <td>17.0</td>\n",
              "      <td>70.566666</td>\n",
              "    </tr>\n",
              "    <tr>\n",
              "      <th>2006-12-16 17:27:00</th>\n",
              "      <td>5.388</td>\n",
              "      <td>0.502</td>\n",
              "      <td>233.740</td>\n",
              "      <td>23.000</td>\n",
              "      <td>0.000</td>\n",
              "      <td>1.000</td>\n",
              "      <td>17.0</td>\n",
              "      <td>71.800003</td>\n",
              "    </tr>\n",
              "    <tr>\n",
              "      <th>2006-12-16 17:28:00</th>\n",
              "      <td>3.666</td>\n",
              "      <td>0.528</td>\n",
              "      <td>235.680</td>\n",
              "      <td>15.800</td>\n",
              "      <td>0.000</td>\n",
              "      <td>1.000</td>\n",
              "      <td>17.0</td>\n",
              "      <td>43.099998</td>\n",
              "    </tr>\n",
              "    <tr>\n",
              "      <th>...</th>\n",
              "      <td>...</td>\n",
              "      <td>...</td>\n",
              "      <td>...</td>\n",
              "      <td>...</td>\n",
              "      <td>...</td>\n",
              "      <td>...</td>\n",
              "      <td>...</td>\n",
              "      <td>...</td>\n",
              "    </tr>\n",
              "    <tr>\n",
              "      <th>2010-11-26 20:58:00</th>\n",
              "      <td>0.946</td>\n",
              "      <td>0.000</td>\n",
              "      <td>240.430</td>\n",
              "      <td>4.000</td>\n",
              "      <td>0.000</td>\n",
              "      <td>0.000</td>\n",
              "      <td>0.0</td>\n",
              "      <td>15.766666</td>\n",
              "    </tr>\n",
              "    <tr>\n",
              "      <th>2010-11-26 20:59:00</th>\n",
              "      <td>0.944</td>\n",
              "      <td>0.000</td>\n",
              "      <td>240.000</td>\n",
              "      <td>4.000</td>\n",
              "      <td>0.000</td>\n",
              "      <td>0.000</td>\n",
              "      <td>0.0</td>\n",
              "      <td>15.733334</td>\n",
              "    </tr>\n",
              "    <tr>\n",
              "      <th>2010-11-26 21:00:00</th>\n",
              "      <td>0.938</td>\n",
              "      <td>0.000</td>\n",
              "      <td>239.820</td>\n",
              "      <td>3.800</td>\n",
              "      <td>0.000</td>\n",
              "      <td>0.000</td>\n",
              "      <td>0.0</td>\n",
              "      <td>15.633333</td>\n",
              "    </tr>\n",
              "    <tr>\n",
              "      <th>2010-11-26 21:01:00</th>\n",
              "      <td>0.934</td>\n",
              "      <td>0.000</td>\n",
              "      <td>239.700</td>\n",
              "      <td>3.800</td>\n",
              "      <td>0.000</td>\n",
              "      <td>0.000</td>\n",
              "      <td>0.0</td>\n",
              "      <td>15.566667</td>\n",
              "    </tr>\n",
              "    <tr>\n",
              "      <th>2010-11-26 21:02:00</th>\n",
              "      <td>0.932</td>\n",
              "      <td>0.000</td>\n",
              "      <td>239.550</td>\n",
              "      <td>3.800</td>\n",
              "      <td>0.000</td>\n",
              "      <td>0.000</td>\n",
              "      <td>0.0</td>\n",
              "      <td>15.533334</td>\n",
              "    </tr>\n",
              "  </tbody>\n",
              "</table>\n",
              "<p>2075259 rows × 8 columns</p>\n",
              "</div>"
            ],
            "text/plain": [
              "                    Global_active_power  ... Sub_metering_4\n",
              "datetime                                 ...               \n",
              "2006-12-16 17:24:00               4.216  ...      52.266670\n",
              "2006-12-16 17:25:00               5.360  ...      72.333336\n",
              "2006-12-16 17:26:00               5.374  ...      70.566666\n",
              "2006-12-16 17:27:00               5.388  ...      71.800003\n",
              "2006-12-16 17:28:00               3.666  ...      43.099998\n",
              "...                                 ...  ...            ...\n",
              "2010-11-26 20:58:00               0.946  ...      15.766666\n",
              "2010-11-26 20:59:00               0.944  ...      15.733334\n",
              "2010-11-26 21:00:00               0.938  ...      15.633333\n",
              "2010-11-26 21:01:00               0.934  ...      15.566667\n",
              "2010-11-26 21:02:00               0.932  ...      15.533334\n",
              "\n",
              "[2075259 rows x 8 columns]"
            ]
          },
          "metadata": {
            "tags": []
          },
          "execution_count": 4
        }
      ]
    },
    {
      "cell_type": "code",
      "metadata": {
        "colab": {
          "base_uri": "https://localhost:8080/"
        },
        "id": "BuoVGmgz3bxM",
        "outputId": "46671194-b369-4715-a9ac-b87560aaea2e"
      },
      "source": [
        "#save updated dataset\r\n",
        "dataset.to_csv(\"household_power_consumption.csv\")\r\n",
        "\r\n",
        "#summarize\r\n",
        "dataset = read_csv('household_power_consumption.csv', header=0, infer_datetime_format=True,\r\n",
        "  parse_dates=['datetime'], index_col=['datetime'])\r\n",
        "print(dataset.head())"
      ],
      "execution_count": 5,
      "outputs": [
        {
          "output_type": "stream",
          "text": [
            "                     Global_active_power  ...  Sub_metering_4\n",
            "datetime                                  ...                \n",
            "2006-12-16 17:24:00                4.216  ...       52.266670\n",
            "2006-12-16 17:25:00                5.360  ...       72.333336\n",
            "2006-12-16 17:26:00                5.374  ...       70.566666\n",
            "2006-12-16 17:27:00                5.388  ...       71.800000\n",
            "2006-12-16 17:28:00                3.666  ...       43.100000\n",
            "\n",
            "[5 rows x 8 columns]\n"
          ],
          "name": "stdout"
        }
      ]
    },
    {
      "cell_type": "code",
      "metadata": {
        "colab": {
          "base_uri": "https://localhost:8080/"
        },
        "id": "d5Jx6tYhDpmT",
        "outputId": "f228d4ba-15a8-4155-a4cc-7368c1048b25"
      },
      "source": [
        "#downsample per-minute to daily total\r\n",
        "daily_groups = dataset.resample(\"D\")\r\n",
        "daily_data = daily_groups.sum()\r\n",
        "\r\n",
        "#summarize\r\n",
        "print(daily_data.shape)\r\n",
        "print(daily_data.head())\r\n",
        "#save\r\n",
        "daily_data.to_csv('household_power_consumption_days.csv')"
      ],
      "execution_count": 6,
      "outputs": [
        {
          "output_type": "stream",
          "text": [
            "(1442, 8)\n",
            "            Global_active_power  ...  Sub_metering_4\n",
            "datetime                         ...                \n",
            "2006-12-16             1209.176  ...    14680.933319\n",
            "2006-12-17             3390.460  ...    36946.666732\n",
            "2006-12-18             2203.826  ...    19028.433281\n",
            "2006-12-19             1666.194  ...    13131.900043\n",
            "2006-12-20             2225.748  ...    20384.800011\n",
            "\n",
            "[5 rows x 8 columns]\n"
          ],
          "name": "stdout"
        }
      ]
    },
    {
      "cell_type": "code",
      "metadata": {
        "id": "v8mo9u7ZEbTb"
      },
      "source": [
        "#implement Root Mean Squared Error as error metric\r\n",
        "def evaluate_forecasts(actual, predicted):\r\n",
        "  scores = list()\r\n",
        "\r\n",
        "  for i in range(actual.shape[1]):\r\n",
        "    mse = mean_squared_error(actual[:,i], predicted[:,i])\r\n",
        "    rmse = sqrt(mse)\r\n",
        "    scores.append(rmse)\r\n",
        "\r\n",
        "  s = 0\r\n",
        "  for row in range(actual.shape[0]):\r\n",
        "    for col in range(actual.shape[1]):\r\n",
        "      s += (actual[row, col] - predicted[row, col]) ** 2\r\n",
        "  \r\n",
        "  overall_score = sqrt(s / (actual.shape[0] * actual.shape[1]))\r\n",
        "\r\n",
        "  return overall_score, scores"
      ],
      "execution_count": 7,
      "outputs": []
    },
    {
      "cell_type": "code",
      "metadata": {
        "id": "_vi_hMKRGiE9"
      },
      "source": [
        "def split_dataset(data):\r\n",
        "  train = data[1: -328]\r\n",
        "  test = data[-328: -6]\r\n",
        "\r\n",
        "  #split into weekly data\r\n",
        "  train = array(split(train, len(train)/7))\r\n",
        "  test = array(split(test, len(test)/7))\r\n",
        "\r\n",
        "  return train, test"
      ],
      "execution_count": 8,
      "outputs": []
    },
    {
      "cell_type": "code",
      "metadata": {
        "colab": {
          "base_uri": "https://localhost:8080/"
        },
        "id": "nHLIRdKOG-lB",
        "outputId": "9f069faa-2134-4395-94df-8e5d653fe383"
      },
      "source": [
        "dataset = read_csv('household_power_consumption_days.csv', header=0,\r\n",
        "  infer_datetime_format=True, parse_dates=['datetime'], index_col=['datetime'])\r\n",
        "\r\n",
        "train, test = split_dataset(dataset.values)\r\n",
        "\r\n",
        "# validate train data\r\n",
        "print(train.shape)\r\n",
        "print(train[0, 0, 0], train[-1, -1, 0])\r\n",
        "# validate test\r\n",
        "print(test.shape)\r\n",
        "print(test[0, 0, 0], test[-1, -1, 0])"
      ],
      "execution_count": 9,
      "outputs": [
        {
          "output_type": "stream",
          "text": [
            "(159, 7, 8)\n",
            "3390.46 1308.8359999999998\n",
            "(46, 7, 8)\n",
            "2083.4539999999984 2197.006000000004\n"
          ],
          "name": "stdout"
        }
      ]
    },
    {
      "cell_type": "code",
      "metadata": {
        "id": "00YlWBbLHZDx"
      },
      "source": [
        "def evaluate_model(func, train, test):\r\n",
        "  history = [x for x in train]\r\n",
        "  predictions = list()\r\n",
        "\r\n",
        "  for i in range(len(test)):\r\n",
        "    yhat_seq = func(history)\r\n",
        "    predictions.append(yhat_seq)\r\n",
        "    history.append(test[i,:])\r\n",
        "\r\n",
        "  predictions = array(predictions)\r\n",
        "  overall_score, scores = evaluate_forecasts(test[:, :, 0], predictions)\r\n",
        "\r\n",
        "  return overall_score, scores"
      ],
      "execution_count": 10,
      "outputs": []
    },
    {
      "cell_type": "code",
      "metadata": {
        "id": "VyduPuFoIFct"
      },
      "source": [
        "def summarize_scores(name, score, scores):\r\n",
        "  s_scores = ', '.join(['%.1f' % s for s in scores])\r\n",
        "  print('%s: [%.3f] %s' % (name, score, s_scores))"
      ],
      "execution_count": 11,
      "outputs": []
    },
    {
      "cell_type": "code",
      "metadata": {
        "id": "JwgjvrsS5k9a"
      },
      "source": [
        "def daily_persistence(history):\r\n",
        "  last_week = history[-1]\r\n",
        "  value = last_week[-1, 0]\r\n",
        "  forecast = [value for _ in range(7)]\r\n",
        "\r\n",
        "  return forecast"
      ],
      "execution_count": 12,
      "outputs": []
    },
    {
      "cell_type": "code",
      "metadata": {
        "id": "0_m8GeVY5l72"
      },
      "source": [
        "def weekly_persistence(history):\r\n",
        "  last_week = history[-1]\r\n",
        "  return last_week[:, 0]"
      ],
      "execution_count": 13,
      "outputs": []
    },
    {
      "cell_type": "code",
      "metadata": {
        "id": "Y0gpKsHQtBUu"
      },
      "source": [
        "# week one year ago persistence model\r\n",
        "def week_one_year_ago_persistence(history):\r\n",
        "  # get the data for the prior week\r\n",
        "  last_week = history[-52]\r\n",
        "  return last_week[:, 0]"
      ],
      "execution_count": 14,
      "outputs": []
    },
    {
      "cell_type": "code",
      "metadata": {
        "id": "hAWJ02GztDVg"
      },
      "source": [
        "# load the new file\r\n",
        "dataset = read_csv('household_power_consumption_days.csv', header=0,\r\n",
        "infer_datetime_format=True, parse_dates=['datetime'], index_col=['datetime'])\r\n",
        "# split into train and test\r\n",
        "train, test = split_dataset(dataset.values)"
      ],
      "execution_count": 15,
      "outputs": []
    },
    {
      "cell_type": "code",
      "metadata": {
        "id": "K_iLhbr_tHRX"
      },
      "source": [
        "# define the names and functions for the models we wish to evaluate\r\n",
        "models = dict()\r\n",
        "models['daily'] = daily_persistence\r\n",
        "models['weekly'] = weekly_persistence\r\n",
        "models['week-oya'] = week_one_year_ago_persistence"
      ],
      "execution_count": 16,
      "outputs": []
    },
    {
      "cell_type": "code",
      "metadata": {
        "colab": {
          "base_uri": "https://localhost:8080/",
          "height": 318
        },
        "id": "4D3nP_BctKTR",
        "outputId": "db2f90a6-c252-4811-9b4a-df8cadeac4b7"
      },
      "source": [
        "#evaluate each model\r\n",
        "days = [\"sun\", \"mon\", \"tue\", \"wed\", \"thr\", \"fri\", \"sat\"]\r\n",
        "\r\n",
        "for name, func in models.items():\r\n",
        "  score, scores = evaluate_model(func, train, test)\r\n",
        "  # summarize scores\r\n",
        "  summarize_scores(name, score, scores)\r\n",
        "  # plot scores\r\n",
        "  pyplot.plot(days, scores, marker='o', label=name)\r\n",
        "# show plot\r\n",
        "pyplot.legend()\r\n",
        "pyplot.savefig(\"naive_forecasts.png\")\r\n"
      ],
      "execution_count": 24,
      "outputs": [
        {
          "output_type": "stream",
          "text": [
            "daily: [638.933] 467.4, 642.0, 607.9, 706.1, 658.6, 629.6, 727.2\n",
            "weekly: [605.523] 704.6, 611.7, 496.3, 647.0, 550.1, 446.9, 727.2\n",
            "week-oya: [543.820] 657.5, 490.2, 430.0, 565.0, 477.0, 357.1, 733.8\n"
          ],
          "name": "stdout"
        },
        {
          "output_type": "display_data",
          "data": {
            "image/png": "[encoded data removed]",
            "text/plain": [
              "<Figure size 432x288 with 1 Axes>"
            ]
          },
          "metadata": {
            "tags": [],
            "needs_background": "light"
          }
        }
      ]
    }
  ]
}