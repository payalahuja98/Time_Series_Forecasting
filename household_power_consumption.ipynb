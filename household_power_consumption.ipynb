{
  "nbformat": 4,
  "nbformat_minor": 0,
  "metadata": {
    "colab": {
      "name": "household_power_consumption.ipynb",
      "provenance": [],
      "collapsed_sections": [],
      "authorship_tag": "ABX9TyPp4o1VUD+1R5axmYZ2+H4D"
    },
    "kernelspec": {
      "name": "python3",
      "display_name": "Python 3"
    }
  },
  "cells": [
    {
      "cell_type": "code",
      "metadata": {
        "id": "s2CWE7qZuKp7"
      },
      "source": [
        "from pandas import read_csv"
      ],
      "execution_count": 1,
      "outputs": []
    },
    {
      "cell_type": "code",
      "metadata": {
        "colab": {
          "base_uri": "https://localhost:8080/"
        },
        "id": "VYH2oIXzt4Un",
        "outputId": "e87476d0-42a5-44e3-9397-9473c9bf951e"
      },
      "source": [
        "#load all data\r\n",
        "dataset = read_csv(\"household_power_consumption.txt\", sep=\";\", header=0, low_memory=False,\r\n",
        "infer_datetime_format=True, parse_dates={\"datetime\":[0,1]}, index_col=[\"datetime\"])\r\n",
        "#summarize\r\n",
        "print(dataset.shape)\r\n",
        "print(dataset.head())"
      ],
      "execution_count": 2,
      "outputs": [
        {
          "output_type": "stream",
          "text": [
            "(2075259, 7)\n",
            "                    Global_active_power  ... Sub_metering_3\n",
            "datetime                                 ...               \n",
            "2006-12-16 17:24:00               4.216  ...           17.0\n",
            "2006-12-16 17:25:00               5.360  ...           16.0\n",
            "2006-12-16 17:26:00               5.374  ...           17.0\n",
            "2006-12-16 17:27:00               5.388  ...           17.0\n",
            "2006-12-16 17:28:00               3.666  ...           17.0\n",
            "\n",
            "[5 rows x 7 columns]\n"
          ],
          "name": "stdout"
        }
      ]
    },
    {
      "cell_type": "code",
      "metadata": {
        "id": "7I0dzJ6Muhag"
      },
      "source": [
        "#mark all missing values\r\n",
        "dataset.replace(\"?\", float(\"NaN\"), inplace=True)"
      ],
      "execution_count": 3,
      "outputs": []
    },
    {
      "cell_type": "code",
      "metadata": {
        "colab": {
          "base_uri": "https://localhost:8080/",
          "height": 599
        },
        "id": "rYyRMPGKz71E",
        "outputId": "2793e7ed-6e2d-45cb-d778-5777f539c9ed"
      },
      "source": [
        "values = dataset.values.astype(\"float32\")\r\n",
        "global_act_pwr = values[:,0]\r\n",
        "sub_metering_1 = values[:,-3]\r\n",
        "sub_metering_2 = values[:,-2]\r\n",
        "sub_metering_3 = values[:,-1]\r\n",
        "\r\n",
        "#add column for sub-metering 4\r\n",
        "dataset[\"Sub_metering_4\"] = (global_act_pwr * 1000/60) - (sub_metering_1 + sub_metering_2 + sub_metering_3)\r\n",
        "dataset"
      ],
      "execution_count": 4,
      "outputs": [
        {
          "output_type": "execute_result",
          "data": {
            "text/html": [
              "<div>\n",
              "<style scoped>\n",
              "    .dataframe tbody tr th:only-of-type {\n",
              "        vertical-align: middle;\n",
              "    }\n",
              "\n",
              "    .dataframe tbody tr th {\n",
              "        vertical-align: top;\n",
              "    }\n",
              "\n",
              "    .dataframe thead th {\n",
              "        text-align: right;\n",
              "    }\n",
              "</style>\n",
              "<table border=\"1\" class=\"dataframe\">\n",
              "  <thead>\n",
              "    <tr style=\"text-align: right;\">\n",
              "      <th></th>\n",
              "      <th>Global_active_power</th>\n",
              "      <th>Global_reactive_power</th>\n",
              "      <th>Voltage</th>\n",
              "      <th>Global_intensity</th>\n",
              "      <th>Sub_metering_1</th>\n",
              "      <th>Sub_metering_2</th>\n",
              "      <th>Sub_metering_3</th>\n",
              "      <th>Sub_metering_4</th>\n",
              "    </tr>\n",
              "    <tr>\n",
              "      <th>datetime</th>\n",
              "      <th></th>\n",
              "      <th></th>\n",
              "      <th></th>\n",
              "      <th></th>\n",
              "      <th></th>\n",
              "      <th></th>\n",
              "      <th></th>\n",
              "      <th></th>\n",
              "    </tr>\n",
              "  </thead>\n",
              "  <tbody>\n",
              "    <tr>\n",
              "      <th>2006-12-16 17:24:00</th>\n",
              "      <td>4.216</td>\n",
              "      <td>0.418</td>\n",
              "      <td>234.840</td>\n",
              "      <td>18.400</td>\n",
              "      <td>0.000</td>\n",
              "      <td>1.000</td>\n",
              "      <td>17.0</td>\n",
              "      <td>52.266670</td>\n",
              "    </tr>\n",
              "    <tr>\n",
              "      <th>2006-12-16 17:25:00</th>\n",
              "      <td>5.360</td>\n",
              "      <td>0.436</td>\n",
              "      <td>233.630</td>\n",
              "      <td>23.000</td>\n",
              "      <td>0.000</td>\n",
              "      <td>1.000</td>\n",
              "      <td>16.0</td>\n",
              "      <td>72.333336</td>\n",
              "    </tr>\n",
              "    <tr>\n",
              "      <th>2006-12-16 17:26:00</th>\n",
              "      <td>5.374</td>\n",
              "      <td>0.498</td>\n",
              "      <td>233.290</td>\n",
              "      <td>23.000</td>\n",
              "      <td>0.000</td>\n",
              "      <td>2.000</td>\n",
              "      <td>17.0</td>\n",
              "      <td>70.566666</td>\n",
              "    </tr>\n",
              "    <tr>\n",
              "      <th>2006-12-16 17:27:00</th>\n",
              "      <td>5.388</td>\n",
              "      <td>0.502</td>\n",
              "      <td>233.740</td>\n",
              "      <td>23.000</td>\n",
              "      <td>0.000</td>\n",
              "      <td>1.000</td>\n",
              "      <td>17.0</td>\n",
              "      <td>71.800003</td>\n",
              "    </tr>\n",
              "    <tr>\n",
              "      <th>2006-12-16 17:28:00</th>\n",
              "      <td>3.666</td>\n",
              "      <td>0.528</td>\n",
              "      <td>235.680</td>\n",
              "      <td>15.800</td>\n",
              "      <td>0.000</td>\n",
              "      <td>1.000</td>\n",
              "      <td>17.0</td>\n",
              "      <td>43.099998</td>\n",
              "    </tr>\n",
              "    <tr>\n",
              "      <th>...</th>\n",
              "      <td>...</td>\n",
              "      <td>...</td>\n",
              "      <td>...</td>\n",
              "      <td>...</td>\n",
              "      <td>...</td>\n",
              "      <td>...</td>\n",
              "      <td>...</td>\n",
              "      <td>...</td>\n",
              "    </tr>\n",
              "    <tr>\n",
              "      <th>2010-11-26 20:58:00</th>\n",
              "      <td>0.946</td>\n",
              "      <td>0.000</td>\n",
              "      <td>240.430</td>\n",
              "      <td>4.000</td>\n",
              "      <td>0.000</td>\n",
              "      <td>0.000</td>\n",
              "      <td>0.0</td>\n",
              "      <td>15.766666</td>\n",
              "    </tr>\n",
              "    <tr>\n",
              "      <th>2010-11-26 20:59:00</th>\n",
              "      <td>0.944</td>\n",
              "      <td>0.000</td>\n",
              "      <td>240.000</td>\n",
              "      <td>4.000</td>\n",
              "      <td>0.000</td>\n",
              "      <td>0.000</td>\n",
              "      <td>0.0</td>\n",
              "      <td>15.733334</td>\n",
              "    </tr>\n",
              "    <tr>\n",
              "      <th>2010-11-26 21:00:00</th>\n",
              "      <td>0.938</td>\n",
              "      <td>0.000</td>\n",
              "      <td>239.820</td>\n",
              "      <td>3.800</td>\n",
              "      <td>0.000</td>\n",
              "      <td>0.000</td>\n",
              "      <td>0.0</td>\n",
              "      <td>15.633333</td>\n",
              "    </tr>\n",
              "    <tr>\n",
              "      <th>2010-11-26 21:01:00</th>\n",
              "      <td>0.934</td>\n",
              "      <td>0.000</td>\n",
              "      <td>239.700</td>\n",
              "      <td>3.800</td>\n",
              "      <td>0.000</td>\n",
              "      <td>0.000</td>\n",
              "      <td>0.0</td>\n",
              "      <td>15.566667</td>\n",
              "    </tr>\n",
              "    <tr>\n",
              "      <th>2010-11-26 21:02:00</th>\n",
              "      <td>0.932</td>\n",
              "      <td>0.000</td>\n",
              "      <td>239.550</td>\n",
              "      <td>3.800</td>\n",
              "      <td>0.000</td>\n",
              "      <td>0.000</td>\n",
              "      <td>0.0</td>\n",
              "      <td>15.533334</td>\n",
              "    </tr>\n",
              "  </tbody>\n",
              "</table>\n",
              "<p>2075259 rows × 8 columns</p>\n",
              "</div>"
            ],
            "text/plain": [
              "                    Global_active_power  ... Sub_metering_4\n",
              "datetime                                 ...               \n",
              "2006-12-16 17:24:00               4.216  ...      52.266670\n",
              "2006-12-16 17:25:00               5.360  ...      72.333336\n",
              "2006-12-16 17:26:00               5.374  ...      70.566666\n",
              "2006-12-16 17:27:00               5.388  ...      71.800003\n",
              "2006-12-16 17:28:00               3.666  ...      43.099998\n",
              "...                                 ...  ...            ...\n",
              "2010-11-26 20:58:00               0.946  ...      15.766666\n",
              "2010-11-26 20:59:00               0.944  ...      15.733334\n",
              "2010-11-26 21:00:00               0.938  ...      15.633333\n",
              "2010-11-26 21:01:00               0.934  ...      15.566667\n",
              "2010-11-26 21:02:00               0.932  ...      15.533334\n",
              "\n",
              "[2075259 rows x 8 columns]"
            ]
          },
          "metadata": {
            "tags": []
          },
          "execution_count": 4
        }
      ]
    },
    {
      "cell_type": "code",
      "metadata": {
        "colab": {
          "base_uri": "https://localhost:8080/"
        },
        "id": "BuoVGmgz3bxM",
        "outputId": "88d75237-0a28-4dbe-e348-06e5978e4b1c"
      },
      "source": [
        "#save updated dataset\r\n",
        "dataset.to_csv(\"household_power_consumption.csv\")\r\n",
        "\r\n",
        "#summarize\r\n",
        "dataset = read_csv('household_power_consumption.csv', header=0, infer_datetime_format=True,\r\n",
        "  parse_dates=['datetime'], index_col=['datetime'])\r\n",
        "print(dataset.head())"
      ],
      "execution_count": 5,
      "outputs": [
        {
          "output_type": "stream",
          "text": [
            "                     Global_active_power  ...  Sub_metering_4\n",
            "datetime                                  ...                \n",
            "2006-12-16 17:24:00                4.216  ...       52.266670\n",
            "2006-12-16 17:25:00                5.360  ...       72.333336\n",
            "2006-12-16 17:26:00                5.374  ...       70.566666\n",
            "2006-12-16 17:27:00                5.388  ...       71.800000\n",
            "2006-12-16 17:28:00                3.666  ...       43.100000\n",
            "\n",
            "[5 rows x 8 columns]\n"
          ],
          "name": "stdout"
        }
      ]
    },
    {
      "cell_type": "code",
      "metadata": {
        "colab": {
          "base_uri": "https://localhost:8080/"
        },
        "id": "d5Jx6tYhDpmT",
        "outputId": "2df0262f-e374-42cc-b095-01d07f815dc0"
      },
      "source": [
        "#downsample per-minute to daily total\r\n",
        "daily_groups = dataset.resample(\"D\")\r\n",
        "daily_data = daily_groups.sum()\r\n",
        "\r\n",
        "#summarize\r\n",
        "print(daily_data.shape)\r\n",
        "print(daily_data.head())\r\n",
        "#save\r\n",
        "daily_data.to_csv('household_power_consumption_days.csv')"
      ],
      "execution_count": 6,
      "outputs": [
        {
          "output_type": "stream",
          "text": [
            "(1442, 8)\n",
            "            Global_active_power  ...  Sub_metering_4\n",
            "datetime                         ...                \n",
            "2006-12-16             1209.176  ...    14680.933319\n",
            "2006-12-17             3390.460  ...    36946.666732\n",
            "2006-12-18             2203.826  ...    19028.433281\n",
            "2006-12-19             1666.194  ...    13131.900043\n",
            "2006-12-20             2225.748  ...    20384.800011\n",
            "\n",
            "[5 rows x 8 columns]\n"
          ],
          "name": "stdout"
        }
      ]
    },
    {
      "cell_type": "code",
      "metadata": {
        "id": "v8mo9u7ZEbTb"
      },
      "source": [
        "#implement Root Mean Squared Error as error metric\r\n",
        "def evaluate_forecasts(actual, predicted):\r\n",
        "  scores = list()\r\n",
        "\r\n",
        "  for i in range(actual.shape[1]):\r\n",
        "    mse = mean_squared_error(actual[:,i], predicted[:,i])\r\n",
        "    rmse = sqrt(mse)\r\n",
        "    scores.append(rmse)\r\n",
        "\r\n",
        "  s = 0\r\n",
        "  for row in range(scores.shape[0]):\r\n",
        "    for col in range(scores.shape[1]):\r\n",
        "      s += (actual[row, col] - predicted[row, col]) ** 2\r\n",
        "  \r\n",
        "  overall_score = sqrt(s / (actual.shape[0] * actual.shape[1]))\r\n",
        "\r\n",
        "  return overall_score, scores"
      ],
      "execution_count": 7,
      "outputs": []
    }
  ]
}